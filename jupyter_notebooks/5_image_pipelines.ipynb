{
 "cells": [
  {
   "cell_type": "code",
   "execution_count": 10,
   "metadata": {},
   "outputs": [],
   "source": [
    "import os\n",
    "import pandas as pd\n",
    "import numpy as np\n",
    "import matplotlib.pyplot as plt\n",
    "import seaborn as sns\n",
    "import joblib\n",
    "import tensorflow as tf\n",
    "sns.set_style(\"white\")\n",
    "from matplotlib.image import imread"
   ]
  },
  {
   "cell_type": "code",
   "execution_count": 2,
   "metadata": {},
   "outputs": [
    {
     "name": "stdout",
     "output_type": "stream",
     "text": [
      "You are now working in c:\\Users\\fredd\\Desktop\\Studier\\Project5\\mushrooms\\Mushroom_edible_gallery\\jupyter_notebooks\n",
      "If you need to change to the parent directory, run the cell below\n"
     ]
    }
   ],
   "source": [
    "working_dir = os.getcwd()\n",
    "print(f\"You are now working in {working_dir}\")\n",
    "print(\"If you need to change to the parent directory, run the cell below\")"
   ]
  },
  {
   "cell_type": "code",
   "execution_count": 3,
   "metadata": {},
   "outputs": [],
   "source": [
    "os.chdir(os.path.dirname(working_dir))"
   ]
  },
  {
   "cell_type": "code",
   "execution_count": 4,
   "metadata": {},
   "outputs": [
    {
     "name": "stdout",
     "output_type": "stream",
     "text": [
      "You have now changed your working directory to c:\\Users\\fredd\\Desktop\\Studier\\Project5\\mushrooms\\Mushroom_edible_gallery\n"
     ]
    }
   ],
   "source": [
    "working_dir = os.getcwd()\n",
    "print(f\"You have now changed your working directory to {working_dir}\")"
   ]
  },
  {
   "cell_type": "code",
   "execution_count": 5,
   "metadata": {},
   "outputs": [
    {
     "name": "stdout",
     "output_type": "stream",
     "text": [
      "This version already exists, create a new version if you are working on a new version\n"
     ]
    }
   ],
   "source": [
    "version = 'v1'\n",
    "file_path = f'outputs/{version}'\n",
    "\n",
    "if 'outputs' in os.listdir(working_dir) and version in os.listdir(working_dir + '/outputs'):\n",
    "    print(\"This version already exists, create a new version if you are working on a new version\")\n",
    "    pass\n",
    "else:\n",
    "    os.makedirs(name=file_path)"
   ]
  },
  {
   "cell_type": "code",
   "execution_count": 6,
   "metadata": {},
   "outputs": [],
   "source": [
    "image_dirs = 'input/dataset/raw/MO_94'\n",
    "train_path = image_dirs + '/train'\n",
    "val_path = image_dirs + '/validation'\n",
    "test_path = image_dirs + '/test'"
   ]
  },
  {
   "cell_type": "code",
   "execution_count": 7,
   "metadata": {},
   "outputs": [
    {
     "name": "stdout",
     "output_type": "stream",
     "text": [
      "Label for the images are:\n",
      "Agaricus augustus\n",
      "Agaricus xanthodermus\n",
      "Amanita amerirubescens\n",
      "Amanita augusta\n",
      "Amanita brunnescens\n",
      "Amanita calyptroderma\n",
      "Amanita flavoconia\n",
      "Amanita muscaria\n",
      "Amanita persicina\n",
      "Amanita phalloides\n",
      "Amanita velosa\n",
      "Armillaria mellea\n",
      "Armillaria tabescens\n",
      "Artomyces pyxidatus\n",
      "Bolbitius titubans\n",
      "Boletus pallidus\n",
      "Boletus rex-veris\n",
      "Cantharellus californicus\n",
      "Cantharellus cinnabarinus\n",
      "Cerioporus squamosus\n",
      "Chlorophyllum brunneum\n",
      "Chlorophyllum molybdites\n",
      "Clitocybe nuda\n",
      "Coprinellus micaceus\n",
      "Coprinopsis lagopus\n",
      "Coprinus comatus\n",
      "Crucibulum laeve\n",
      "Cryptoporus volvatus\n",
      "Daedaleopsis confragosa\n",
      "Entoloma abortivum\n",
      "Flammulina velutipes\n",
      "Fomitopsis mounceae\n",
      "Galerina marginata\n",
      "Ganoderma applanatum\n",
      "Ganoderma curtisii\n",
      "Ganoderma oregonense\n",
      "Ganoderma tsugae\n",
      "Gliophorus psittacinus\n",
      "Gloeophyllum sepiarium\n",
      "Grifola frondosa\n",
      "Gymnopilus luteofolius\n",
      "Hericium coralloides\n",
      "Hericium erinaceus\n",
      "Hygrophoropsis aurantiaca\n",
      "Hypholoma fasciculare\n",
      "Hypholoma lateritium\n",
      "Hypomyces lactifluorum\n",
      "Ischnoderma resinosum\n",
      "Laccaria ochropurpurea\n",
      "Laetiporus sulphureus\n",
      "Leratiomyces ceres\n",
      "Leucoagaricus americanus\n",
      "Leucoagaricus leucothites\n",
      "Lycogala epidendrum\n",
      "Lycoperdon perlatum\n",
      "Lycoperdon pyriforme\n",
      "Mycena haematopus\n",
      "Mycena leaiana\n",
      "Omphalotus illudens\n",
      "Omphalotus olivascens\n",
      "Panaeolus papilionaceus\n",
      "Panellus stipticus\n",
      "Phaeolus schweinitzii\n",
      "Phlebia tremellosa\n",
      "Phyllotopsis nidulans\n",
      "Pleurotus ostreatus\n",
      "Pleurotus pulmonarius\n",
      "Psathyrella candolleana\n",
      "Pseudohydnum gelatinosum\n",
      "Psilocybe azurescens\n",
      "Psilocybe caerulescens\n",
      "Psilocybe cubensis\n",
      "Psilocybe cyanescens\n",
      "Psilocybe ovoideocystidiata\n",
      "Psilocybe pelliculosa\n",
      "Retiboletus ornatipes\n",
      "Sarcomyxa serotina\n",
      "Schizophyllum commune\n",
      "Stereum hirsutum\n",
      "Stereum ostrea\n",
      "Stropharia ambigua\n",
      "Suillus americanus\n",
      "Suillus luteus\n",
      "Suillus spraguei\n",
      "Tapinella atrotomentosa\n",
      "Trametes betulina\n",
      "Trametes gibbosa\n",
      "Trametes versicolor\n",
      "Trichaptum biforme\n",
      "Tricholoma murrillianum\n",
      "Tricholomopsis rutilans\n",
      "Tylopilus felleus\n",
      "Tylopilus rubrobrunneus\n",
      "Volvopluteus gloiocephalus\n"
     ]
    }
   ],
   "source": [
    "labels = os.listdir(train_path)\n",
    "print(\"Label for the images are:\")\n",
    "for specie in labels:\n",
    "    print(specie)"
   ]
  },
  {
   "cell_type": "code",
   "execution_count": 8,
   "metadata": {},
   "outputs": [
    {
     "data": {
      "text/plain": [
       "(497, 606, 3)"
      ]
     },
     "execution_count": 8,
     "metadata": {},
     "output_type": "execute_result"
    }
   ],
   "source": [
    "version = 'v1'\n",
    "image_shape = joblib.load(filename=f\"outputs/{version}/image_shape.pkl\")\n",
    "image_shape"
   ]
  },
  {
   "cell_type": "markdown",
   "metadata": {},
   "source": [
    "# Create pipeline\n"
   ]
  },
  {
   "cell_type": "code",
   "execution_count": null,
   "metadata": {},
   "outputs": [],
   "source": []
  },
  {
   "cell_type": "code",
   "execution_count": null,
   "metadata": {},
   "outputs": [],
   "source": []
  }
 ],
 "metadata": {
  "kernelspec": {
   "display_name": "Python 3",
   "language": "python",
   "name": "python3"
  },
  "language_info": {
   "codemirror_mode": {
    "name": "ipython",
    "version": 3
   },
   "file_extension": ".py",
   "mimetype": "text/x-python",
   "name": "python",
   "nbconvert_exporter": "python",
   "pygments_lexer": "ipython3",
   "version": "3.11.9"
  }
 },
 "nbformat": 4,
 "nbformat_minor": 2
}
