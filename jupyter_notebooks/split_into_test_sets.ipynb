{
 "cells": [
  {
   "cell_type": "markdown",
   "metadata": {},
   "source": [
    "\n",
    "## Split data into train/validation/test sets"
   ]
  },
  {
   "cell_type": "code",
   "execution_count": null,
   "metadata": {},
   "outputs": [],
   "source": [
    "import os\n",
    "import shutil\n",
    "import random\n",
    "import joblib\n",
    "\n",
    "def split_train_validation_test_images(image_dir, train_set_ratio, validation_set_ratio, test_set_ratio):\n",
    "    \n",
    "    # Check if the ratios are set to the correct total amount\n",
    "    if train_set_ratio + validation_set_ratio + test_set_ratio != 1.0:\n",
    "        print(\"The total of train_set_ratio, validation_set_ratio and test_set_ratio should be 1.0\")\n",
    "        \n",
    "    species = os.listdir(image_dir)\n",
    "    if 'test' in species:\n",
    "        pass\n",
    "    else:\n",
    "        # this will create train/validation/test folders with species labeled sub-folders\n",
    "        for folder in ['train', 'validation', 'test']:\n",
    "            for specie in species:\n",
    "                os.makedirs(name=image_dir + '/' + folder + specie)"
   ]
  }
 ],
 "metadata": {
  "language_info": {
   "name": "python"
  }
 },
 "nbformat": 4,
 "nbformat_minor": 2
}
