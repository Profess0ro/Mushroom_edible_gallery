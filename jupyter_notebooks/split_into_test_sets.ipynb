{
 "cells": [
  {
   "cell_type": "code",
   "execution_count": 1,
   "metadata": {},
   "outputs": [
    {
     "name": "stdout",
     "output_type": "stream",
     "text": [
      "You are now working in c:\\Users\\fredd\\Desktop\\Studier\\Project5\\mushrooms\\Mushroom_edible_gallery\\jupyter_notebooks\n",
      "If you need to change to the parent directory, run the cell below\n"
     ]
    }
   ],
   "source": [
    "import os\n",
    "working_dir = os.getcwd()\n",
    "print(f\"You are now working in {working_dir}\")\n",
    "print(\"If you need to change to the parent directory, run the cell below\")"
   ]
  },
  {
   "cell_type": "code",
   "execution_count": 2,
   "metadata": {},
   "outputs": [],
   "source": [
    "os.chdir(os.path.dirname(working_dir))"
   ]
  },
  {
   "cell_type": "code",
   "execution_count": 3,
   "metadata": {},
   "outputs": [
    {
     "name": "stdout",
     "output_type": "stream",
     "text": [
      "You have now changed your working directory to c:\\Users\\fredd\\Desktop\\Studier\\Project5\\mushrooms\\Mushroom_edible_gallery\n"
     ]
    }
   ],
   "source": [
    "working_dir = os.getcwd()\n",
    "print(f\"You have now changed your working directory to {working_dir}\")"
   ]
  },
  {
   "cell_type": "markdown",
   "metadata": {},
   "source": [
    "\n",
    "## Split data into train/validation/test sets"
   ]
  },
  {
   "cell_type": "code",
   "execution_count": null,
   "metadata": {},
   "outputs": [],
   "source": [
    "import os\n",
    "import shutil\n",
    "import random\n",
    "import joblib\n",
    "\n",
    "def split_train_validation_test_images(image_dir, train_set_ratio, validation_set_ratio, test_set_ratio):\n",
    "    \n",
    "    # Check if the ratios are set to the correct total amount\n",
    "    if train_set_ratio + validation_set_ratio + test_set_ratio != 1.0:\n",
    "        print(\"The total of train_set_ratio, validation_set_ratio and test_set_ratio should be 1.0\")\n",
    "        \n",
    "    species = os.listdir(image_dir)\n",
    "    if 'test' in species:\n",
    "        pass\n",
    "    else:\n",
    "        # this will create train/validation/test folders with species labeled sub-folders\n",
    "        for folder in ['train', 'validation', 'test']:\n",
    "            for specie in species:\n",
    "                os.makedirs(name=image_dir + '/' + folder + specie)\n",
    "                \n",
    "        for specie in species:\n",
    "            files = os.listdir(image_dir + '/' + specie)\n",
    "            random.shuffle(files)\n",
    "            \n",
    "            train_set_files_qty = int(len(files) * train_set_ratio)\n",
    "            validation_set_files_qty = int(len(files) * validation_set_ratio)\n",
    "            \n",
    "            count = 1\n",
    "            for image_name in files:\n",
    "                if count <= train_set_files_qty:\n",
    "                    # moves an image to the train set\n",
    "                    shutil.move(image_dir + '/' + specie + '/' + image_name,\n",
    "                                image_dir + '/train' + specie + '/' + image_name)\n",
    "                    \n",
    "                elif count <= (train_set_files_qty + validation_set_files_qty):\n",
    "                    # moves an image to the validation set\n",
    "                    shutil.move(image_dir + '/' + specie + '/' + image_name,\n",
    "                                image_dir + '/validation' + specie + '/' + image_name)\n",
    "                    \n",
    "                else:\n",
    "                    # moves an image to the test set\n",
    "                    shutil.move(image_dir + '/' + specie + image_name,\n",
    "                                image_dir + '/test' + specie + image_name)\n",
    "                    \n",
    "                count += 1\n",
    "                \n",
    "            os.rmdir(image_dir + '/' + specie)"
   ]
  },
  {
   "cell_type": "code",
   "execution_count": null,
   "metadata": {},
   "outputs": [],
   "source": [
    "split_train_validation_test_images(image_dir=f\"inputs/dataset/raw/MO_94\",\n",
    "                                   train_set_ratio=0.7,\n",
    "                                   validation_set_ratio=0.1,\n",
    "                                   test_set_ratio=0.2\n",
    "                                   )"
   ]
  }
 ],
 "metadata": {
  "kernelspec": {
   "display_name": "Python 3",
   "language": "python",
   "name": "python3"
  },
  "language_info": {
   "codemirror_mode": {
    "name": "ipython",
    "version": 3
   },
   "file_extension": ".py",
   "mimetype": "text/x-python",
   "name": "python",
   "nbconvert_exporter": "python",
   "pygments_lexer": "ipython3",
   "version": "3.11.9"
  }
 },
 "nbformat": 4,
 "nbformat_minor": 2
}
